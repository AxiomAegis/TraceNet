{
 "cells": [
  {
   "cell_type": "code",
   "execution_count": 1,
   "id": "a95eacbe-2968-4a84-a426-4d25dc9c7022",
   "metadata": {
    "execution": {
     "iopub.execute_input": "2023-07-09T08:14:39.566431Z",
     "iopub.status.busy": "2023-07-09T08:14:39.566056Z",
     "iopub.status.idle": "2023-07-09T08:14:40.423471Z",
     "shell.execute_reply": "2023-07-09T08:14:40.422792Z",
     "shell.execute_reply.started": "2023-07-09T08:14:39.566408Z"
    },
    "tags": []
   },
   "outputs": [],
   "source": [
    "from tensorboard.backend.event_processing import event_accumulator\n",
    "import argparse\n",
    "import pandas as pd\n",
    "from tqdm import tqdm"
   ]
  },
  {
   "cell_type": "code",
   "execution_count": 4,
   "id": "4f0bdeb9-4942-4831-844e-439981945da6",
   "metadata": {
    "execution": {
     "iopub.execute_input": "2023-07-09T08:18:03.876084Z",
     "iopub.status.busy": "2023-07-09T08:18:03.875692Z",
     "iopub.status.idle": "2023-07-09T08:18:03.908274Z",
     "shell.execute_reply": "2023-07-09T08:18:03.907644Z",
     "shell.execute_reply.started": "2023-07-09T08:18:03.876059Z"
    },
    "tags": []
   },
   "outputs": [
    {
     "name": "stdout",
     "output_type": "stream",
     "text": [
      "['Training loss', 'Test loss', 'Test Accuracy']\n"
     ]
    }
   ],
   "source": [
    "event_data = event_accumulator.EventAccumulator('runs/最优结果/ResidualNet_Repeat1_BatchSize64_LearningRate0.001')  # a python interface for loading Event data\n",
    "event_data.Reload()  # synchronously loads all of the data written so far b\n",
    "# print(event_data.Tags())  # print all tags\n",
    "keys = event_data.scalars.Keys()  # get all tags,save in a list\n",
    "print(keys)"
   ]
  },
  {
   "cell_type": "code",
   "execution_count": null,
   "id": "dced97d2-1764-4342-949f-6485e132ff55",
   "metadata": {},
   "outputs": [],
   "source": []
  }
 ],
 "metadata": {
  "kernelspec": {
   "display_name": "Python 3 (ipykernel)",
   "language": "python",
   "name": "python3"
  },
  "language_info": {
   "codemirror_mode": {
    "name": "ipython",
    "version": 3
   },
   "file_extension": ".py",
   "mimetype": "text/x-python",
   "name": "python",
   "nbconvert_exporter": "python",
   "pygments_lexer": "ipython3",
   "version": "3.10.11"
  },
  "widgets": {
   "application/vnd.jupyter.widget-state+json": {
    "state": {},
    "version_major": 2,
    "version_minor": 0
   }
  }
 },
 "nbformat": 4,
 "nbformat_minor": 5
}
